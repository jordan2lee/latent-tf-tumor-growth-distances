{
 "cells": [
  {
   "cell_type": "code",
   "execution_count": 1,
   "id": "7dd0b9e4",
   "metadata": {},
   "outputs": [],
   "source": [
    "import pandas as pd\n",
    "from glob import glob"
   ]
  },
  {
   "cell_type": "code",
   "execution_count": 9,
   "id": "ruled-holder",
   "metadata": {},
   "outputs": [
    {
     "name": "stdout",
     "output_type": "stream",
     "text": [
      "../data/midway.freeze.v2/PAAD_GEXP/.gitinclude\n"
     ]
    }
   ],
   "source": [
    "# dev\n",
    "for g in glob(\"../data/midway.freeze.v2/PAAD_GEXP/.*\"):\n",
    "    print(g)"
   ]
  },
  {
   "cell_type": "code",
   "execution_count": null,
   "id": "ed0ca4b2",
   "metadata": {},
   "outputs": [],
   "source": [
    "dfs = []\n",
    "for g in glob(\"../../data/hcmi_disrupt/*.tsv\"):\n",
    "    dfs.append(pd.read_csv(g, sep=\"\\t\", index_col=0))"
   ]
  },
  {
   "cell_type": "code",
   "execution_count": null,
   "id": "65f4aefb",
   "metadata": {},
   "outputs": [],
   "source": [
    "isect = None\n",
    "for i in dfs:\n",
    "    if isect is None:\n",
    "        isect = i.columns\n",
    "    else:\n",
    "        isect = isect.intersection(i.columns)"
   ]
  },
  {
   "cell_type": "code",
   "execution_count": null,
   "id": "298a6c3d",
   "metadata": {},
   "outputs": [],
   "source": [
    "df = pd.concat( i[isect] for i in dfs )"
   ]
  },
  {
   "cell_type": "code",
   "execution_count": null,
   "id": "99ae0f9d",
   "metadata": {},
   "outputs": [],
   "source": [
    "hugo_map = dict( df.columns.map(lambda x: (x, x.split(\":\")[3])) )"
   ]
  },
  {
   "cell_type": "code",
   "execution_count": null,
   "id": "e33feb03",
   "metadata": {},
   "outputs": [],
   "source": [
    "out = df.rename(columns=hugo_map)"
   ]
  },
  {
   "cell_type": "code",
   "execution_count": null,
   "id": "0751b210",
   "metadata": {},
   "outputs": [],
   "source": [
    "df.loc[\"HCM-BROD-1124-C16-85B\"]"
   ]
  },
  {
   "cell_type": "code",
   "execution_count": null,
   "id": "6c12d42e",
   "metadata": {},
   "outputs": [],
   "source": [
    "out = out[ ~out.index.duplicated(keep='first') ]"
   ]
  },
  {
   "cell_type": "code",
   "execution_count": null,
   "id": "fa21508d",
   "metadata": {},
   "outputs": [],
   "source": [
    "out.to_csv(\"../../data/hcmi.counts.tsv\", sep=\"\\t\")"
   ]
  },
  {
   "cell_type": "code",
   "execution_count": null,
   "id": "f7301420",
   "metadata": {},
   "outputs": [],
   "source": []
  }
 ],
 "metadata": {
  "kernelspec": {
   "display_name": "Python 3 (ipykernel)",
   "language": "python",
   "name": "python3"
  },
  "language_info": {
   "codemirror_mode": {
    "name": "ipython",
    "version": 3
   },
   "file_extension": ".py",
   "mimetype": "text/x-python",
   "name": "python",
   "nbconvert_exporter": "python",
   "pygments_lexer": "ipython3",
   "version": "3.9.21"
  }
 },
 "nbformat": 4,
 "nbformat_minor": 5
}
